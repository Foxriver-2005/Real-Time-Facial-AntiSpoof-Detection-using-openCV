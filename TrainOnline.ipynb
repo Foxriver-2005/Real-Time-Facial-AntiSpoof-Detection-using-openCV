{
 "cells": [
  {
   "cell_type": "code",
   "execution_count": null,
   "id": "a5bd7547",
   "metadata": {},
   "outputs": [],
   "source": [
    "!nvidia-smi"
   ]
  },
  {
   "cell_type": "code",
   "execution_count": null,
   "id": "f2fa6153",
   "metadata": {},
   "outputs": [],
   "source": [
    "!pip install ultralytics\n",
    "from ultralytics import YOLO"
   ]
  },
  {
   "cell_type": "code",
   "execution_count": null,
   "id": "36f4bffb",
   "metadata": {},
   "outputs": [],
   "source": [
    "!yolo task-detect mode-predict model-yolov8n.pt conf-0.25 source='https://ultralytics.com/Images/bus.jpg'"
   ]
  },
  {
   "cell_type": "code",
   "execution_count": null,
   "id": "1bd14157",
   "metadata": {},
   "outputs": [],
   "source": [
    "folder_path_drive = \"Datasets/Spoofing/Version2\"\n",
    "from google.colab import drive\n",
    "drive.mount('/content/gdrive')\n",
    "!cp /content/gdrive/MyDrive/{folder_path_drive}/data.zip /content"
   ]
  },
  {
   "cell_type": "code",
   "execution_count": null,
   "id": "531a8871",
   "metadata": {},
   "outputs": [],
   "source": [
    "%cd /content\n",
    "!unzip -q data.zip -d /content/Data"
   ]
  },
  {
   "cell_type": "code",
   "execution_count": null,
   "id": "2000a078",
   "metadata": {},
   "outputs": [],
   "source": [
    "!yolo task-detect mode-train model=yolov8l.pt data=../content/Data/dataOnline.yaml epochs=100 imgsz=640 patience=25"
   ]
  }
 ],
 "metadata": {
  "kernelspec": {
   "display_name": "Python 3 (ipykernel)",
   "language": "python",
   "name": "python3"
  },
  "language_info": {
   "codemirror_mode": {
    "name": "ipython",
    "version": 3
   },
   "file_extension": ".py",
   "mimetype": "text/x-python",
   "name": "python",
   "nbconvert_exporter": "python",
   "pygments_lexer": "ipython3",
   "version": "3.11.8"
  }
 },
 "nbformat": 4,
 "nbformat_minor": 5
}
